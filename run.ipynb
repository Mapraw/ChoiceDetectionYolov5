{
 "cells": [
  {
   "cell_type": "code",
   "execution_count": 3,
   "metadata": {},
   "outputs": [
    {
     "name": "stdout",
     "output_type": "stream",
     "text": [
      "D:\\ตรวจข้อสอบ\\yolo\\yolov5\n",
      "Requirement already satisfied: matplotlib>=3.2.2 in c:\\users\\mapraw\\anaconda3\\lib\\site-packages (from -r requirements.txt (line 5)) (3.3.2)\n",
      "Requirement already satisfied: numpy>=1.18.5 in c:\\users\\mapraw\\anaconda3\\lib\\site-packages (from -r requirements.txt (line 6)) (1.23.3)\n",
      "Requirement already satisfied: opencv-python>=4.1.1 in c:\\users\\mapraw\\anaconda3\\lib\\site-packages (from -r requirements.txt (line 7)) (4.6.0.66)\n",
      "Requirement already satisfied: Pillow>=7.1.2 in c:\\users\\mapraw\\anaconda3\\lib\\site-packages (from -r requirements.txt (line 8)) (9.2.0)\n",
      "Requirement already satisfied: PyYAML>=5.3.1 in c:\\users\\mapraw\\anaconda3\\lib\\site-packages (from -r requirements.txt (line 9)) (5.3.1)\n",
      "Requirement already satisfied: requests>=2.23.0 in c:\\users\\mapraw\\anaconda3\\lib\\site-packages (from -r requirements.txt (line 10)) (2.28.1)\n",
      "Requirement already satisfied: scipy>=1.4.1 in c:\\users\\mapraw\\anaconda3\\lib\\site-packages (from -r requirements.txt (line 11)) (1.5.2)\n",
      "Requirement already satisfied: torch>=1.7.0 in c:\\users\\mapraw\\anaconda3\\lib\\site-packages (from -r requirements.txt (line 12)) (1.12.1)\n",
      "Requirement already satisfied: torchvision>=0.8.1 in c:\\users\\mapraw\\anaconda3\\lib\\site-packages (from -r requirements.txt (line 13)) (0.13.1)\n",
      "Requirement already satisfied: tqdm>=4.64.0 in c:\\users\\mapraw\\anaconda3\\lib\\site-packages (from -r requirements.txt (line 14)) (4.64.0)\n",
      "Requirement already satisfied: tensorboard>=2.4.1 in c:\\users\\mapraw\\anaconda3\\lib\\site-packages (from -r requirements.txt (line 18)) (2.10.1)\n",
      "Collecting pandas>=1.1.4\n",
      "  Downloading pandas-1.5.0-cp38-cp38-win_amd64.whl (11.0 MB)\n",
      "     ---------------------------------------- 11.0/11.0 MB 8.2 MB/s eta 0:00:00\n",
      "Requirement already satisfied: seaborn>=0.11.0 in c:\\users\\mapraw\\anaconda3\\lib\\site-packages (from -r requirements.txt (line 24)) (0.11.0)\n",
      "Requirement already satisfied: ipython in c:\\users\\mapraw\\anaconda3\\lib\\site-packages (from -r requirements.txt (line 41)) (7.19.0)\n",
      "Requirement already satisfied: psutil in c:\\users\\mapraw\\anaconda3\\lib\\site-packages (from -r requirements.txt (line 42)) (5.7.2)\n",
      "Collecting thop>=0.1.1\n",
      "  Downloading thop-0.1.1.post2209072238-py3-none-any.whl (15 kB)\n",
      "Requirement already satisfied: pyparsing!=2.0.4,!=2.1.2,!=2.1.6,>=2.0.3 in c:\\users\\mapraw\\anaconda3\\lib\\site-packages (from matplotlib>=3.2.2->-r requirements.txt (line 5)) (2.4.7)\n",
      "Requirement already satisfied: kiwisolver>=1.0.1 in c:\\users\\mapraw\\anaconda3\\lib\\site-packages (from matplotlib>=3.2.2->-r requirements.txt (line 5)) (1.3.0)\n",
      "Requirement already satisfied: certifi>=2020.06.20 in c:\\users\\mapraw\\anaconda3\\lib\\site-packages (from matplotlib>=3.2.2->-r requirements.txt (line 5)) (2020.6.20)\n",
      "Requirement already satisfied: python-dateutil>=2.1 in c:\\users\\mapraw\\anaconda3\\lib\\site-packages (from matplotlib>=3.2.2->-r requirements.txt (line 5)) (2.8.1)\n",
      "Requirement already satisfied: cycler>=0.10 in c:\\users\\mapraw\\anaconda3\\lib\\site-packages (from matplotlib>=3.2.2->-r requirements.txt (line 5)) (0.10.0)\n",
      "Requirement already satisfied: idna<4,>=2.5 in c:\\users\\mapraw\\anaconda3\\lib\\site-packages (from requests>=2.23.0->-r requirements.txt (line 10)) (2.10)\n",
      "Requirement already satisfied: charset-normalizer<3,>=2 in c:\\users\\mapraw\\anaconda3\\lib\\site-packages (from requests>=2.23.0->-r requirements.txt (line 10)) (2.1.0)\n",
      "Requirement already satisfied: urllib3<1.27,>=1.21.1 in c:\\users\\mapraw\\anaconda3\\lib\\site-packages (from requests>=2.23.0->-r requirements.txt (line 10)) (1.25.11)\n",
      "Requirement already satisfied: typing-extensions in c:\\users\\mapraw\\anaconda3\\lib\\site-packages (from torch>=1.7.0->-r requirements.txt (line 12)) (4.2.0)\n",
      "Requirement already satisfied: colorama in c:\\users\\mapraw\\anaconda3\\lib\\site-packages (from tqdm>=4.64.0->-r requirements.txt (line 14)) (0.4.4)\n",
      "Requirement already satisfied: google-auth<3,>=1.6.3 in c:\\users\\mapraw\\anaconda3\\lib\\site-packages (from tensorboard>=2.4.1->-r requirements.txt (line 18)) (1.28.0)\n",
      "Requirement already satisfied: tensorboard-plugin-wit>=1.6.0 in c:\\users\\mapraw\\anaconda3\\lib\\site-packages (from tensorboard>=2.4.1->-r requirements.txt (line 18)) (1.8.0)\n",
      "Requirement already satisfied: setuptools>=41.0.0 in c:\\users\\mapraw\\anaconda3\\lib\\site-packages (from tensorboard>=2.4.1->-r requirements.txt (line 18)) (50.3.1.post20201107)\n",
      "Requirement already satisfied: google-auth-oauthlib<0.5,>=0.4.1 in c:\\users\\mapraw\\anaconda3\\lib\\site-packages (from tensorboard>=2.4.1->-r requirements.txt (line 18)) (0.4.4)\n",
      "Requirement already satisfied: protobuf<3.20,>=3.9.2 in c:\\users\\mapraw\\anaconda3\\lib\\site-packages (from tensorboard>=2.4.1->-r requirements.txt (line 18)) (3.15.7)\n",
      "Requirement already satisfied: markdown>=2.6.8 in c:\\users\\mapraw\\anaconda3\\lib\\site-packages (from tensorboard>=2.4.1->-r requirements.txt (line 18)) (3.3.4)\n",
      "Requirement already satisfied: absl-py>=0.4 in c:\\users\\mapraw\\anaconda3\\lib\\site-packages (from tensorboard>=2.4.1->-r requirements.txt (line 18)) (1.2.0)\n",
      "Requirement already satisfied: grpcio>=1.24.3 in c:\\users\\mapraw\\anaconda3\\lib\\site-packages (from tensorboard>=2.4.1->-r requirements.txt (line 18)) (1.32.0)\n",
      "Requirement already satisfied: wheel>=0.26 in c:\\users\\mapraw\\anaconda3\\lib\\site-packages (from tensorboard>=2.4.1->-r requirements.txt (line 18)) (0.35.1)\n",
      "Requirement already satisfied: tensorboard-data-server<0.7.0,>=0.6.0 in c:\\users\\mapraw\\anaconda3\\lib\\site-packages (from tensorboard>=2.4.1->-r requirements.txt (line 18)) (0.6.1)\n",
      "Requirement already satisfied: werkzeug>=1.0.1 in c:\\users\\mapraw\\anaconda3\\lib\\site-packages (from tensorboard>=2.4.1->-r requirements.txt (line 18)) (1.0.1)\n",
      "Requirement already satisfied: pytz>=2020.1 in c:\\users\\mapraw\\anaconda3\\lib\\site-packages (from pandas>=1.1.4->-r requirements.txt (line 23)) (2020.1)\n",
      "Requirement already satisfied: traitlets>=4.2 in c:\\users\\mapraw\\anaconda3\\lib\\site-packages (from ipython->-r requirements.txt (line 41)) (5.0.5)\n",
      "Requirement already satisfied: pickleshare in c:\\users\\mapraw\\anaconda3\\lib\\site-packages (from ipython->-r requirements.txt (line 41)) (0.7.5)\n",
      "Requirement already satisfied: pygments in c:\\users\\mapraw\\anaconda3\\lib\\site-packages (from ipython->-r requirements.txt (line 41)) (2.7.2)\n",
      "Requirement already satisfied: jedi>=0.10 in c:\\users\\mapraw\\anaconda3\\lib\\site-packages (from ipython->-r requirements.txt (line 41)) (0.17.1)\n",
      "Requirement already satisfied: backcall in c:\\users\\mapraw\\anaconda3\\lib\\site-packages (from ipython->-r requirements.txt (line 41)) (0.2.0)\n"
     ]
    },
    {
     "name": "stderr",
     "output_type": "stream",
     "text": [
      "WARNING: Ignore distutils configs in setup.cfg due to encoding errors.\n",
      "WARNING: Ignoring invalid distribution -pencv-python-headless (c:\\users\\mapraw\\anaconda3\\lib\\site-packages)\n",
      "WARNING: Ignoring invalid distribution -orch (c:\\users\\mapraw\\anaconda3\\lib\\site-packages)\n",
      "WARNING: Ignoring invalid distribution -pencv-python-headless (c:\\users\\mapraw\\anaconda3\\lib\\site-packages)\n",
      "WARNING: Ignoring invalid distribution -orch (c:\\users\\mapraw\\anaconda3\\lib\\site-packages)\n",
      "WARNING: Ignoring invalid distribution -pencv-python-headless (c:\\users\\mapraw\\anaconda3\\lib\\site-packages)\n",
      "WARNING: Ignoring invalid distribution -orch (c:\\users\\mapraw\\anaconda3\\lib\\site-packages)\n",
      "  WARNING: Ignore distutils configs in setup.cfg due to encoding errors.\n",
      "    WARNING: Ignoring invalid distribution -pencv-python-headless (c:\\users\\mapraw\\anaconda3\\lib\\site-packages)\n",
      "    WARNING: Ignoring invalid distribution -orch (c:\\users\\mapraw\\anaconda3\\lib\\site-packages)\n",
      "  WARNING: Ignore distutils configs in setup.cfg due to encoding errors.\n",
      "WARNING: Ignore distutils configs in setup.cfg due to encoding errors.\n",
      "WARNING: Ignoring invalid distribution -pencv-python-headless (c:\\users\\mapraw\\anaconda3\\lib\\site-packages)\n",
      "WARNING: Ignoring invalid distribution -orch (c:\\users\\mapraw\\anaconda3\\lib\\site-packages)\n",
      "WARNING: Ignoring invalid distribution -pencv-python-headless (c:\\users\\mapraw\\anaconda3\\lib\\site-packages)\n",
      "WARNING: Ignoring invalid distribution -orch (c:\\users\\mapraw\\anaconda3\\lib\\site-packages)\n",
      "ERROR: pip's dependency resolver does not currently take into account all the packages that are installed. This behaviour is the source of the following dependency conflicts.\n",
      "datasets 2.2.2 requires dill<0.3.5, but you have dill 0.3.5.1 which is incompatible.\n",
      "WARNING: Ignoring invalid distribution -pencv-python-headless (c:\\users\\mapraw\\anaconda3\\lib\\site-packages)\n",
      "WARNING: Ignoring invalid distribution -orch (c:\\users\\mapraw\\anaconda3\\lib\\site-packages)\n",
      "WARNING: Ignoring invalid distribution -pencv-python-headless (c:\\users\\mapraw\\anaconda3\\lib\\site-packages)\n",
      "WARNING: Ignoring invalid distribution -orch (c:\\users\\mapraw\\anaconda3\\lib\\site-packages)\n",
      "WARNING: Ignoring invalid distribution -pencv-python-headless (c:\\users\\mapraw\\anaconda3\\lib\\site-packages)\n",
      "WARNING: Ignoring invalid distribution -orch (c:\\users\\mapraw\\anaconda3\\lib\\site-packages)\n"
     ]
    },
    {
     "name": "stdout",
     "output_type": "stream",
     "text": [
      "Requirement already satisfied: prompt-toolkit!=3.0.0,!=3.0.1,<3.1.0,>=2.0.0 in c:\\users\\mapraw\\anaconda3\\lib\\site-packages (from ipython->-r requirements.txt (line 41)) (3.0.8)\n",
      "Requirement already satisfied: decorator in c:\\users\\mapraw\\anaconda3\\lib\\site-packages (from ipython->-r requirements.txt (line 41)) (4.4.2)\n",
      "Requirement already satisfied: six in c:\\users\\mapraw\\appdata\\roaming\\python\\python38\\site-packages (from cycler>=0.10->matplotlib>=3.2.2->-r requirements.txt (line 5)) (1.15.0)\n",
      "Requirement already satisfied: rsa<5,>=3.1.4 in c:\\users\\mapraw\\anaconda3\\lib\\site-packages (from google-auth<3,>=1.6.3->tensorboard>=2.4.1->-r requirements.txt (line 18)) (4.7.2)\n",
      "Requirement already satisfied: cachetools<5.0,>=2.0.0 in c:\\users\\mapraw\\anaconda3\\lib\\site-packages (from google-auth<3,>=1.6.3->tensorboard>=2.4.1->-r requirements.txt (line 18)) (4.2.1)\n",
      "Requirement already satisfied: pyasn1-modules>=0.2.1 in c:\\users\\mapraw\\anaconda3\\lib\\site-packages (from google-auth<3,>=1.6.3->tensorboard>=2.4.1->-r requirements.txt (line 18)) (0.2.8)\n",
      "Requirement already satisfied: requests-oauthlib>=0.7.0 in c:\\users\\mapraw\\anaconda3\\lib\\site-packages (from google-auth-oauthlib<0.5,>=0.4.1->tensorboard>=2.4.1->-r requirements.txt (line 18)) (1.3.0)\n",
      "Requirement already satisfied: parso<0.8.0,>=0.7.0 in c:\\users\\mapraw\\anaconda3\\lib\\site-packages (from jedi>=0.10->ipython->-r requirements.txt (line 41)) (0.7.0)\n",
      "Requirement already satisfied: wcwidth in c:\\users\\mapraw\\anaconda3\\lib\\site-packages (from prompt-toolkit!=3.0.0,!=3.0.1,<3.1.0,>=2.0.0->ipython->-r requirements.txt (line 41)) (0.2.5)\n",
      "Requirement already satisfied: ipython-genutils in c:\\users\\mapraw\\anaconda3\\lib\\site-packages (from traitlets>=4.2->ipython->-r requirements.txt (line 41)) (0.2.0)\n",
      "Requirement already satisfied: pyasn1<0.5.0,>=0.4.6 in c:\\users\\mapraw\\anaconda3\\lib\\site-packages (from pyasn1-modules>=0.2.1->google-auth<3,>=1.6.3->tensorboard>=2.4.1->-r requirements.txt (line 18)) (0.4.8)\n",
      "Requirement already satisfied: oauthlib>=3.0.0 in c:\\users\\mapraw\\anaconda3\\lib\\site-packages (from requests-oauthlib>=0.7.0->google-auth-oauthlib<0.5,>=0.4.1->tensorboard>=2.4.1->-r requirements.txt (line 18)) (3.1.0)\n",
      "Installing collected packages: thop, pandas\n",
      "  Attempting uninstall: pandas\n",
      "    Found existing installation: pandas 1.1.3\n",
      "    Uninstalling pandas-1.1.3:\n",
      "      Successfully uninstalled pandas-1.1.3\n",
      "Successfully installed pandas-1.5.0 thop-0.1.1.post2209072238\n"
     ]
    }
   ],
   "source": [
    "# !git clone https://github.com/ultralytics/yolov5  # clone\n",
    "%cd yolov5\n",
    "!pip install -r requirements.txt "
   ]
  },
  {
   "cell_type": "code",
   "execution_count": 4,
   "metadata": {},
   "outputs": [
    {
     "name": "stdout",
     "output_type": "stream",
     "text": [
      "^C\n"
     ]
    }
   ],
   "source": [
    "# yolo\n",
    "!python train.py --img 10000 --batch 1 --epochs 10 --data coco128.yaml --weights yolov5s6.pt --optimizer AdamW"
   ]
  },
  {
   "cell_type": "code",
   "execution_count": null,
   "metadata": {},
   "outputs": [],
   "source": [
    "darknet.py detector train data/custom.data custom_cfg/yolov4-custom.cfg yolov4.conv.137"
   ]
  }
 ],
 "metadata": {
  "kernelspec": {
   "display_name": "Python 3",
   "language": "python",
   "name": "python3"
  },
  "language_info": {
   "codemirror_mode": {
    "name": "ipython",
    "version": 3
   },
   "file_extension": ".py",
   "mimetype": "text/x-python",
   "name": "python",
   "nbconvert_exporter": "python",
   "pygments_lexer": "ipython3",
   "version": "3.8.5"
  }
 },
 "nbformat": 4,
 "nbformat_minor": 4
}
